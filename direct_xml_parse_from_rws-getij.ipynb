{
 "cells": [
  {
   "cell_type": "code",
   "execution_count": 1,
   "id": "df15dcd6-71eb-4be2-bd1b-4ab43bce94e6",
   "metadata": {},
   "outputs": [],
   "source": [
    "import requests\n",
    "from bs4 import BeautifulSoup\n",
    "import pandas as pd\n",
    "import numpy as np\n",
    "import datetime as dt"
   ]
  },
  {
   "cell_type": "code",
   "execution_count": 2,
   "id": "7b674bcf-5c75-452a-9d92-fe2a7ef253ad",
   "metadata": {},
   "outputs": [
    {
     "data": {
      "text/html": [
       "<div><div id=ae6b7785-803f-4a8e-a66f-31ddf3e744d7 style=\"display:none; background-color:#9D6CFF; color:white; width:200px; height:30px; padding-left:5px; border-radius:4px; flex-direction:row; justify-content:space-around; align-items:center;\" onmouseover=\"this.style.backgroundColor='#BA9BF8'\" onmouseout=\"this.style.backgroundColor='#9D6CFF'\" onclick=\"window.commands?.execute('create-mitosheet-from-dataframe-output');\">See Full Dataframe in Mito</div> <script> if (window.commands.hasCommand('create-mitosheet-from-dataframe-output')) document.getElementById('ae6b7785-803f-4a8e-a66f-31ddf3e744d7').style.display = 'flex' </script> <table border=\"1\" class=\"dataframe\">\n",
       "  <thead>\n",
       "    <tr style=\"text-align: right;\">\n",
       "      <th></th>\n",
       "      <th>datetime</th>\n",
       "      <th>tide</th>\n",
       "      <th>val</th>\n",
       "    </tr>\n",
       "  </thead>\n",
       "  <tbody>\n",
       "    <tr>\n",
       "      <th>0</th>\n",
       "      <td>202201010113</td>\n",
       "      <td>LW</td>\n",
       "      <td>-88</td>\n",
       "    </tr>\n",
       "    <tr>\n",
       "      <th>1</th>\n",
       "      <td>202201010731</td>\n",
       "      <td>HW</td>\n",
       "      <td>97</td>\n",
       "    </tr>\n",
       "    <tr>\n",
       "      <th>2</th>\n",
       "      <td>202201011348</td>\n",
       "      <td>LW</td>\n",
       "      <td>-89</td>\n",
       "    </tr>\n",
       "    <tr>\n",
       "      <th>3</th>\n",
       "      <td>202201012001</td>\n",
       "      <td>HW</td>\n",
       "      <td>90</td>\n",
       "    </tr>\n",
       "    <tr>\n",
       "      <th>4</th>\n",
       "      <td>202201020220</td>\n",
       "      <td>LW</td>\n",
       "      <td>-96</td>\n",
       "    </tr>\n",
       "    <tr>\n",
       "      <th>...</th>\n",
       "      <td>...</td>\n",
       "      <td>...</td>\n",
       "      <td>...</td>\n",
       "    </tr>\n",
       "    <tr>\n",
       "      <th>1406</th>\n",
       "      <td>202212302038</td>\n",
       "      <td>LW</td>\n",
       "      <td>-89</td>\n",
       "    </tr>\n",
       "    <tr>\n",
       "      <th>1407</th>\n",
       "      <td>202212310305</td>\n",
       "      <td>HW</td>\n",
       "      <td>104</td>\n",
       "    </tr>\n",
       "    <tr>\n",
       "      <th>1408</th>\n",
       "      <td>202212310927</td>\n",
       "      <td>LW</td>\n",
       "      <td>-82</td>\n",
       "    </tr>\n",
       "    <tr>\n",
       "      <th>1409</th>\n",
       "      <td>202212311536</td>\n",
       "      <td>HW</td>\n",
       "      <td>56</td>\n",
       "    </tr>\n",
       "    <tr>\n",
       "      <th>1410</th>\n",
       "      <td>202212312136</td>\n",
       "      <td>LW</td>\n",
       "      <td>-82</td>\n",
       "    </tr>\n",
       "  </tbody>\n",
       "</table></div>"
      ],
      "text/plain": [
       "            datetime tide    val\n",
       "0     202201010113     LW    -88\n",
       "1     202201010731     HW     97\n",
       "2     202201011348     LW    -89\n",
       "3     202201012001     HW     90\n",
       "4     202201020220     LW    -96\n",
       "...              ...  ...    ...\n",
       "1406  202212302038     LW    -89\n",
       "1407  202212310305     HW    104\n",
       "1408  202212310927     LW    -82\n",
       "1409  202212311536     HW     56\n",
       "1410  202212312136     LW    -82\n",
       "\n",
       "[1411 rows x 3 columns]"
      ]
     },
     "execution_count": 2,
     "metadata": {},
     "output_type": "execute_result"
    }
   ],
   "source": [
    "url22 = 'https://getij.rws.nl/data2022/xml/hwlw-WESTTSLG-20220101-20221231.xml'\n",
    "url23 = 'https://getij.rws.nl/data2023/xml/hwlw-WESTTSLG-20230101-20231231.xml'\n",
    "xml_data = requests.get(url22).content \n",
    "\n",
    "def parse_xml(xml_data):\n",
    "  # Initializing soup variable\n",
    "    soup = BeautifulSoup(xml_data, 'xml')\n",
    "\n",
    "  # Creating column for table\n",
    "    df = pd.DataFrame(columns=['datetime', 'tide', 'val'])\n",
    "\n",
    "  # Iterating through item tag and extracting elements\n",
    "    all_value = soup.find_all('value')\n",
    "    value_length = len(all_value)\n",
    "    \n",
    "    for index, value in enumerate(all_value):\n",
    "        datetime = value.find('datetime').text\n",
    "        tide = value.find('tide').text\n",
    "        val = value.find('val').text\n",
    "\n",
    "       # Adding extracted elements to rows in table\n",
    "        row = {\n",
    "            'datetime': datetime,\n",
    "            'tide': tide,\n",
    "            'val': val\n",
    "        }\n",
    "\n",
    "        df = df.append(row, ignore_index=True)\n",
    "        #print(f'Appending row %s of %s' % (index+1, value_length))\n",
    "\n",
    "    return df\n",
    "\n",
    "df = parse_xml(xml_data)\n",
    "df"
   ]
  },
  {
   "cell_type": "code",
   "execution_count": 3,
   "id": "0c7b52e2-cf96-4544-b128-21e5276e2022",
   "metadata": {},
   "outputs": [],
   "source": [
    "#pd.read_csv('input/tidal_coast_stations_2022.csv')"
   ]
  },
  {
   "cell_type": "markdown",
   "id": "33d20d22-a0b7-4d2c-a84d-c014a7d69d6a",
   "metadata": {},
   "source": [
    "### Using part of url string to rename output csv"
   ]
  },
  {
   "cell_type": "code",
   "execution_count": 4,
   "id": "8a77c4c8-8ff0-41e3-8d63-0ff6756dd044",
   "metadata": {},
   "outputs": [
    {
     "name": "stdout",
     "output_type": "stream",
     "text": [
      "hwlw-WESTTSLG-20220101-20221231\n"
     ]
    }
   ],
   "source": [
    "url22 = 'https://getij.rws.nl/data2022/xml/hwlw-WESTTSLG-20220101-20221231.xml'\n",
    "text_22 = url22[34:-4] # remove :34 \"https://getij.rws.nl/data2022/xml/\", remove :-4 .xml\n",
    "text_23 = url23[34:-4]\n",
    "print(text_22)"
   ]
  },
  {
   "cell_type": "code",
   "execution_count": 5,
   "id": "ee22fa5d-4474-4881-a7a2-0bec79989e85",
   "metadata": {},
   "outputs": [
    {
     "data": {
      "text/html": [
       "<div><div id=9ae0c107-cf41-452a-af02-003cbd0aa4fd style=\"display:none; background-color:#9D6CFF; color:white; width:200px; height:30px; padding-left:5px; border-radius:4px; flex-direction:row; justify-content:space-around; align-items:center;\" onmouseover=\"this.style.backgroundColor='#BA9BF8'\" onmouseout=\"this.style.backgroundColor='#9D6CFF'\" onclick=\"window.commands?.execute('create-mitosheet-from-dataframe-output');\">See Full Dataframe in Mito</div> <script> if (window.commands.hasCommand('create-mitosheet-from-dataframe-output')) document.getElementById('9ae0c107-cf41-452a-af02-003cbd0aa4fd').style.display = 'flex' </script> <table border=\"1\" class=\"dataframe\">\n",
       "  <thead>\n",
       "    <tr style=\"text-align: right;\">\n",
       "      <th></th>\n",
       "      <th>datetime</th>\n",
       "      <th>tide</th>\n",
       "      <th>val</th>\n",
       "    </tr>\n",
       "  </thead>\n",
       "  <tbody>\n",
       "    <tr>\n",
       "      <th>0</th>\n",
       "      <td>2022-01-01 01:13:00</td>\n",
       "      <td>LW</td>\n",
       "      <td>-88</td>\n",
       "    </tr>\n",
       "    <tr>\n",
       "      <th>1</th>\n",
       "      <td>2022-01-01 07:31:00</td>\n",
       "      <td>HW</td>\n",
       "      <td>97</td>\n",
       "    </tr>\n",
       "    <tr>\n",
       "      <th>2</th>\n",
       "      <td>2022-01-01 13:48:00</td>\n",
       "      <td>LW</td>\n",
       "      <td>-89</td>\n",
       "    </tr>\n",
       "    <tr>\n",
       "      <th>3</th>\n",
       "      <td>2022-01-01 20:01:00</td>\n",
       "      <td>HW</td>\n",
       "      <td>90</td>\n",
       "    </tr>\n",
       "    <tr>\n",
       "      <th>4</th>\n",
       "      <td>2022-01-02 02:20:00</td>\n",
       "      <td>LW</td>\n",
       "      <td>-96</td>\n",
       "    </tr>\n",
       "    <tr>\n",
       "      <th>...</th>\n",
       "      <td>...</td>\n",
       "      <td>...</td>\n",
       "      <td>...</td>\n",
       "    </tr>\n",
       "    <tr>\n",
       "      <th>1406</th>\n",
       "      <td>2022-12-30 20:38:00</td>\n",
       "      <td>LW</td>\n",
       "      <td>-89</td>\n",
       "    </tr>\n",
       "    <tr>\n",
       "      <th>1407</th>\n",
       "      <td>2022-12-31 03:05:00</td>\n",
       "      <td>HW</td>\n",
       "      <td>104</td>\n",
       "    </tr>\n",
       "    <tr>\n",
       "      <th>1408</th>\n",
       "      <td>2022-12-31 09:27:00</td>\n",
       "      <td>LW</td>\n",
       "      <td>-82</td>\n",
       "    </tr>\n",
       "    <tr>\n",
       "      <th>1409</th>\n",
       "      <td>2022-12-31 15:36:00</td>\n",
       "      <td>HW</td>\n",
       "      <td>56</td>\n",
       "    </tr>\n",
       "    <tr>\n",
       "      <th>1410</th>\n",
       "      <td>2022-12-31 21:36:00</td>\n",
       "      <td>LW</td>\n",
       "      <td>-82</td>\n",
       "    </tr>\n",
       "  </tbody>\n",
       "</table></div>"
      ],
      "text/plain": [
       "                datetime tide  val\n",
       "0    2022-01-01 01:13:00   LW  -88\n",
       "1    2022-01-01 07:31:00   HW   97\n",
       "2    2022-01-01 13:48:00   LW  -89\n",
       "3    2022-01-01 20:01:00   HW   90\n",
       "4    2022-01-02 02:20:00   LW  -96\n",
       "...                  ...  ...  ...\n",
       "1406 2022-12-30 20:38:00   LW  -89\n",
       "1407 2022-12-31 03:05:00   HW  104\n",
       "1408 2022-12-31 09:27:00   LW  -82\n",
       "1409 2022-12-31 15:36:00   HW   56\n",
       "1410 2022-12-31 21:36:00   LW  -82\n",
       "\n",
       "[1411 rows x 3 columns]"
      ]
     },
     "execution_count": 5,
     "metadata": {},
     "output_type": "execute_result"
    }
   ],
   "source": [
    "# Please set current year as text entry\n",
    "entry = text_22 \n",
    "\n",
    "df.to_csv('temp.csv') # using temp.csv to ignore some errors with datetime\n",
    "df = pd.read_csv('temp.csv')\n",
    "datetime_entry = pd.to_datetime(df.datetime,format=\"%Y%m%d%H%M\")\n",
    "df[\"datetime\"] = datetime_entry\n",
    "df.drop(df.columns[0], axis = 1)\n"
   ]
  },
  {
   "cell_type": "markdown",
   "id": "32782718-3c6a-4e12-b879-8ffd3b997415",
   "metadata": {},
   "source": [
    "### Datetime filter "
   ]
  },
  {
   "cell_type": "code",
   "execution_count": 6,
   "id": "5e94bdfd-85af-49bd-b4a3-66f880c4e587",
   "metadata": {},
   "outputs": [],
   "source": [
    "#tupper_days > tday > tlower_days\n",
    "\n",
    "#change time delta:\n",
    "tupper_days = 0\n",
    "tlower_days = 0\n",
    "tday = dt.datetime.today()\n",
    "tupper = dt.datetime.combine(dt.date.today(), dt.datetime.max.time()) + dt.timedelta(days=tupper_days)\n",
    "tlower = dt.datetime.combine(dt.date.today(), dt.datetime.min.time()) - dt.timedelta(days=tlower_days)"
   ]
  },
  {
   "cell_type": "code",
   "execution_count": 7,
   "id": "e5619c16-328b-476d-bd3f-18f83c7afe5a",
   "metadata": {},
   "outputs": [
    {
     "name": "stdout",
     "output_type": "stream",
     "text": [
      "today: 2022-05-16 21:39:41.768546\n",
      "tupper: 2022-05-16 23:59:59.999999\n",
      "tlower: 2022-05-16 00:00:00\n"
     ]
    }
   ],
   "source": [
    "print(\"today: \" +str(tday))\n",
    "print(\"tupper: \"+str(tupper))\n",
    "print(\"tlower: \"+str(tlower))\n",
    "\n",
    "date_upper_str = str(tupper.date()) # used for filename for output file \n",
    "date_lower_str = str(tlower.date())"
   ]
  },
  {
   "cell_type": "code",
   "execution_count": 8,
   "id": "e8ae8132-2f05-417a-98e7-6f9b3800fc4a",
   "metadata": {},
   "outputs": [
    {
     "name": "stdout",
     "output_type": "stream",
     "text": [
      "filtered data output (fdo): hwlw-WESTTSLG_from_2022-05-16_to_2022-05-16.csv\n"
     ]
    }
   ],
   "source": [
    "output_csv = entry[:-18] + \"_from_\" + date_lower_str+\"_to_\"+ date_upper_str+\".csv\"\n",
    "print('filtered data output (fdo): ' + output_csv)"
   ]
  },
  {
   "cell_type": "markdown",
   "id": "40aa5a1f-beae-4bd9-83fd-5ffec70cf83d",
   "metadata": {},
   "source": [
    "### Filtered dataframe"
   ]
  },
  {
   "cell_type": "code",
   "execution_count": 9,
   "id": "1aa0a5d8-d7d8-4caf-8d45-ecc9c6b6cd75",
   "metadata": {},
   "outputs": [
    {
     "data": {
      "text/html": [
       "<div><div id=aaf88f6c-2f8a-4867-b371-f3b9e7b341f1 style=\"display:none; background-color:#9D6CFF; color:white; width:200px; height:30px; padding-left:5px; border-radius:4px; flex-direction:row; justify-content:space-around; align-items:center;\" onmouseover=\"this.style.backgroundColor='#BA9BF8'\" onmouseout=\"this.style.backgroundColor='#9D6CFF'\" onclick=\"window.commands?.execute('create-mitosheet-from-dataframe-output');\">See Full Dataframe in Mito</div> <script> if (window.commands.hasCommand('create-mitosheet-from-dataframe-output')) document.getElementById('aaf88f6c-2f8a-4867-b371-f3b9e7b341f1').style.display = 'flex' </script> <table border=\"1\" class=\"dataframe\">\n",
       "  <thead>\n",
       "    <tr style=\"text-align: right;\">\n",
       "      <th></th>\n",
       "      <th>datetime</th>\n",
       "      <th>tide</th>\n",
       "      <th>val</th>\n",
       "    </tr>\n",
       "  </thead>\n",
       "  <tbody>\n",
       "    <tr>\n",
       "      <th>522</th>\n",
       "      <td>2022-05-16 04:12:00</td>\n",
       "      <td>LW</td>\n",
       "      <td>-125</td>\n",
       "    </tr>\n",
       "    <tr>\n",
       "      <th>523</th>\n",
       "      <td>2022-05-16 10:22:00</td>\n",
       "      <td>HW</td>\n",
       "      <td>75</td>\n",
       "    </tr>\n",
       "    <tr>\n",
       "      <th>524</th>\n",
       "      <td>2022-05-16 16:32:00</td>\n",
       "      <td>LW</td>\n",
       "      <td>-124</td>\n",
       "    </tr>\n",
       "    <tr>\n",
       "      <th>525</th>\n",
       "      <td>2022-05-16 22:39:00</td>\n",
       "      <td>HW</td>\n",
       "      <td>90</td>\n",
       "    </tr>\n",
       "  </tbody>\n",
       "</table></div>"
      ],
      "text/plain": [
       "               datetime tide  val\n",
       "522 2022-05-16 04:12:00   LW -125\n",
       "523 2022-05-16 10:22:00   HW   75\n",
       "524 2022-05-16 16:32:00   LW -124\n",
       "525 2022-05-16 22:39:00   HW   90"
      ]
     },
     "execution_count": 9,
     "metadata": {},
     "output_type": "execute_result"
    }
   ],
   "source": [
    "fdo = df[(df['datetime'] > tlower) & (df['datetime'] < tupper)]\n",
    "fdo = fdo.drop(fdo.columns[0], axis = 1)\n",
    "fdo.to_csv(output_csv)\n",
    "\n",
    "fdo"
   ]
  },
  {
   "cell_type": "code",
   "execution_count": 10,
   "id": "3322c0c7-b311-41fc-9f10-928ef03420df",
   "metadata": {},
   "outputs": [],
   "source": [
    "rws_tide_st =[\"Harmsenbrug\",\n",
    "              \"Hartelbrug\",\n",
    "              \"Hartelhaven\",\n",
    "              \"Heesbeen\",\n",
    "              \"Hellevoetsluis\",\n",
    "              \"Hoek van Holland\",\n",
    "              \"Holwerd\",\n",
    "              \"Huibertgat\",\n",
    "              \"IJmuiden\",\n",
    "              \"Kats\",\n",
    "              \"Keizersveer\",\n",
    "              \"Kornwerderzand\",\n",
    "              \"Krammersluizen west\",\n",
    "              \"Krimpen aan de IJssel\",\n",
    "              \"Krimpen aan de Lek\",\n",
    "              \"Lauwersoog\",\n",
    "              \"Lith dorp\",\n",
    "              \"Maassluis\",\n",
    "              \"Marollegat\",\n",
    "              \"Moerdijk\",\n",
    "              \"Nes\",\n",
    "              \"Nieuwe Statenzijl\",\n",
    "              \"Oosterschelde 04\",\n",
    "              \"Oosterschelde 11\",\n",
    "              \"Oosterschelde 14\",\n",
    "              \"Oudeschild\",\n",
    "              \"Overloop van Hansweert\",\n",
    "              \"Parksluis\",\n",
    "              \"Rak Noord\",\n",
    "              \"Roompot binnen\",\n",
    "              \"Roompot buiten\",\n",
    "              \"Rotterdam\",\n",
    "              \"Rozenburgsesluis noordzijde\",\n",
    "              \"Rozenburgsesluis zuidzijde\",\n",
    "              \"Schaar van de Noord\",\n",
    "              \"Scheveningen\",\n",
    "              \"Schiermonnikoog\",\n",
    "              \"Schoonhoven\",\n",
    "              \"Sint Annaland\",\n",
    "              \"Spijkenisse\",\n",
    "              \"Stavenisse\",\n",
    "              \"Suurhoffbrug noordzijde\",\n",
    "              \"Tennesseehaven\",\n",
    "              \"Terneuzen\",\n",
    "              \"Terschelling Noordzee\",\n",
    "              \"Texel Noordzee\",\n",
    "              \"Vlaardingen\",\n",
    "              \"Vlakte van de Raan\",\n",
    "              \"Vlieland haven\",\n",
    "              \"Vlissingen\",\n",
    "              \"Vuren\",\n",
    "              \"Walsoorden\",\n",
    "              \"Werkendam buiten\",\n",
    "              \"Westkapelle\",\n",
    "              \"West-Terschelling\",\n",
    "              \"Wierumergronden\",\n",
    "              \"Yerseke\"]"
   ]
  },
  {
   "cell_type": "code",
   "execution_count": null,
   "id": "483c00cd-7c99-4e09-b506-bc32d9f8d4d4",
   "metadata": {},
   "outputs": [],
   "source": []
  },
  {
   "cell_type": "markdown",
   "id": "2c054bb8-dd85-4375-b93b-f332fa3819a0",
   "metadata": {},
   "source": [
    "### sources"
   ]
  },
  {
   "cell_type": "code",
   "execution_count": 26,
   "id": "15f21f29-22d3-4948-9038-a9c26211021a",
   "metadata": {},
   "outputs": [
    {
     "data": {
      "text/plain": [
       "'\\nDATETIME QUERIES\\nhttps://stackoverflow.com/questions/66516945/query-pandas-datetime-and-filtering-between-current-date-upper-lower-timedelt?noredirect=1#comment117615985_66516945\\n\\n'"
      ]
     },
     "execution_count": 26,
     "metadata": {},
     "output_type": "execute_result"
    }
   ],
   "source": [
    "\"\"\" \n",
    "XML Parse\n",
    "src = https://stackabuse.com/parsing-xml-with-beautifulsoup-in-python/\n",
    "\n",
    "url = 'https://rss.nytimes.com/services/xml/rss/nyt/US.xml'\n",
    "xml_data = requests.get(url).content \n",
    "\n",
    "\n",
    "def parse_xml(xml_data):\n",
    "  # Initializing soup variable\n",
    "    soup = BeautifulSoup(xml_data, 'xml')\n",
    "\n",
    "  # Creating column for table\n",
    "    df = pd.DataFrame(columns=['guid', 'title', 'pubDate', 'description'])\n",
    "\n",
    "  # Iterating through item tag and extracting elements\n",
    "    all_items = soup.find_all('item')\n",
    "    items_length = len(all_items)\n",
    "    \n",
    "    for index, item in enumerate(all_items):\n",
    "        guid = item.find('guid').text\n",
    "        title = item.find('title').text\n",
    "        pub_date = item.find('pubDate').text\n",
    "        description = item.find('description').text\n",
    "\n",
    "       # Adding extracted elements to rows in table\n",
    "        row = {\n",
    "            'guid': guid,\n",
    "            'title': title,\n",
    "            'pubDate': pub_date,\n",
    "            'description': description\n",
    "        }\n",
    "\n",
    "        df = df.append(row, ignore_index=True)\n",
    "        print(f'Appending row %s of %s' % (index+1, items_length))\n",
    "\n",
    "    return df\n",
    "\"\"\"\n",
    "\n",
    "\"\"\"\n",
    "DATETIME QUERIES\n",
    "https://stackoverflow.com/questions/66516945/query-pandas-datetime-and-filtering-between-current-date-upper-lower-timedelt?noredirect=1#comment117615985_66516945\n",
    "\n",
    "\"\"\""
   ]
  }
 ],
 "metadata": {
  "kernelspec": {
   "display_name": "Python 3",
   "language": "python",
   "name": "python3"
  },
  "language_info": {
   "codemirror_mode": {
    "name": "ipython",
    "version": 3
   },
   "file_extension": ".py",
   "mimetype": "text/x-python",
   "name": "python",
   "nbconvert_exporter": "python",
   "pygments_lexer": "ipython3",
   "version": "3.9.7"
  }
 },
 "nbformat": 4,
 "nbformat_minor": 5
}
